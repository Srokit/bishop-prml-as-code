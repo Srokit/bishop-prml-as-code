{
 "cells": [
  {
   "cell_type": "code",
   "execution_count": null,
   "metadata": {},
   "outputs": [],
   "source": [
    "# Install dependencies\n",
    "%pip install numpy matplotlib"
   ]
  },
  {
   "cell_type": "code",
   "execution_count": null,
   "metadata": {},
   "outputs": [],
   "source": [
    "# Import dependencies\n",
    "import numpy as np\n",
    "import matplotlib.pyplot as plt"
   ]
  },
  {
   "cell_type": "markdown",
   "metadata": {},
   "source": [
    "# 1.1 - Polynomial Curve Fitting\n",
    "----\n",
    "We will build a curve fitting algorithm from scratch incrementally. Following along with the graphs and equations in the book."
   ]
  },
  {
   "cell_type": "markdown",
   "metadata": {},
   "source": [
    "First we plot our test dataset.\n",
    "This corresponds to Figure 1.2.\n",
    "We generate it using random noise."
   ]
  },
  {
   "cell_type": "code",
   "execution_count": null,
   "metadata": {},
   "outputs": [],
   "source": [
    "# Samples N=10 data points from normal distribution\n",
    "# The distribution has mean `mu` and standard deviation `sigma`\n",
    "mu = 0\n",
    "sigma = 0.1\n",
    "N = 10\n",
    "# This will make sure that you get the same noise\n",
    "# Comment this line out to see different noise\n",
    "np.random.seed(1234)\n",
    "# np.random.normal gives N values from a normal distribution\n",
    "noise = [x for x in np.random.normal(mu, sigma, N)]\n"
   ]
  },
  {
   "cell_type": "code",
   "execution_count": null,
   "metadata": {},
   "outputs": [],
   "source": [
    "# Get x and y values of a perfect sine wave\n",
    "x = np.linspace(0, 2*np.pi, N)\n",
    "y = np.sin(x)"
   ]
  },
  {
   "cell_type": "code",
   "execution_count": null,
   "metadata": {},
   "outputs": [],
   "source": [
    "# Now add them together to get noisy data\n",
    "y_noisy = y + noise"
   ]
  },
  {
   "cell_type": "markdown",
   "metadata": {},
   "source": [
    "Now we plot the noisy data"
   ]
  },
  {
   "cell_type": "code",
   "execution_count": null,
   "metadata": {},
   "outputs": [],
   "source": [
    "# Plot perfect sine wave\n",
    "plt.plot(x, y, 'r')\n",
    "# Plot noisy sine wave\n",
    "plt.scatter(x, y_noisy)\n",
    "plt.show()"
   ]
  }
 ],
 "metadata": {
  "kernelspec": {
   "display_name": "env",
   "language": "python",
   "name": "python3"
  },
  "language_info": {
   "codemirror_mode": {
    "name": "ipython",
    "version": 3
   },
   "file_extension": ".py",
   "mimetype": "text/x-python",
   "name": "python",
   "nbconvert_exporter": "python",
   "pygments_lexer": "ipython3",
   "version": "3.9.6"
  },
  "orig_nbformat": 4
 },
 "nbformat": 4,
 "nbformat_minor": 2
}
